{
 "cells": [
  {
   "cell_type": "code",
   "execution_count": 1,
   "metadata": {
    "colab": {
     "base_uri": "https://localhost:8080/",
     "height": 37
    },
    "colab_type": "code",
    "id": "jLfVIMI1i9_p",
    "outputId": "9cdbd351-4adf-44cb-96b6-5db9b81b9f49"
   },
   "outputs": [
    {
     "data": {
      "application/vnd.google.colaboratory.intrinsic+json": {
       "type": "string"
      },
      "text/plain": [
       "'/device:GPU:0'"
      ]
     },
     "execution_count": 1,
     "metadata": {
      "tags": []
     },
     "output_type": "execute_result"
    }
   ],
   "source": [
    "import tensorflow as tf\n",
    "tf.test.gpu_device_name()"
   ]
  },
  {
   "cell_type": "code",
   "execution_count": 2,
   "metadata": {
    "colab": {
     "base_uri": "https://localhost:8080/",
     "height": 476
    },
    "colab_type": "code",
    "id": "M0uI4WSojA3a",
    "outputId": "42ac5680-b05b-4331-903a-99761240028a"
   },
   "outputs": [
    {
     "data": {
      "text/plain": [
       "[name: \"/device:CPU:0\"\n",
       " device_type: \"CPU\"\n",
       " memory_limit: 268435456\n",
       " locality {\n",
       " }\n",
       " incarnation: 9458254904403983616, name: \"/device:XLA_CPU:0\"\n",
       " device_type: \"XLA_CPU\"\n",
       " memory_limit: 17179869184\n",
       " locality {\n",
       " }\n",
       " incarnation: 2247572722113964159\n",
       " physical_device_desc: \"device: XLA_CPU device\", name: \"/device:XLA_GPU:0\"\n",
       " device_type: \"XLA_GPU\"\n",
       " memory_limit: 17179869184\n",
       " locality {\n",
       " }\n",
       " incarnation: 12683370568587892836\n",
       " physical_device_desc: \"device: XLA_GPU device\", name: \"/device:GPU:0\"\n",
       " device_type: \"GPU\"\n",
       " memory_limit: 11146783616\n",
       " locality {\n",
       "   bus_id: 1\n",
       "   links {\n",
       "   }\n",
       " }\n",
       " incarnation: 13874584366258837258\n",
       " physical_device_desc: \"device: 0, name: Tesla K80, pci bus id: 0000:00:04.0, compute capability: 3.7\"]"
      ]
     },
     "execution_count": 2,
     "metadata": {
      "tags": []
     },
     "output_type": "execute_result"
    }
   ],
   "source": [
    "from tensorflow.python.client import device_lib\n",
    "device_lib.list_local_devices()"
   ]
  },
  {
   "cell_type": "code",
   "execution_count": 3,
   "metadata": {
    "colab": {
     "base_uri": "https://localhost:8080/",
     "height": 122
    },
    "colab_type": "code",
    "id": "PlLpRgj0jC4Q",
    "outputId": "a67055ca-8b46-40a4-8abc-e5219e7e2b47"
   },
   "outputs": [
    {
     "name": "stdout",
     "output_type": "stream",
     "text": [
      "Go to this URL in a browser: https://accounts.google.com/o/oauth2/auth?client_id=947318989803-6bn6qk8qdgf4n4g3pfee6491hc0brc4i.apps.googleusercontent.com&redirect_uri=urn%3aietf%3awg%3aoauth%3a2.0%3aoob&response_type=code&scope=email%20https%3a%2f%2fwww.googleapis.com%2fauth%2fdocs.test%20https%3a%2f%2fwww.googleapis.com%2fauth%2fdrive%20https%3a%2f%2fwww.googleapis.com%2fauth%2fdrive.photos.readonly%20https%3a%2f%2fwww.googleapis.com%2fauth%2fpeopleapi.readonly\n",
      "\n",
      "Enter your authorization code:\n",
      "··········\n",
      "Mounted at /content/drive\n"
     ]
    }
   ],
   "source": [
    "from google.colab import drive\n",
    "drive.mount(\"/content/drive\", force_remount=True)"
   ]
  },
  {
   "cell_type": "code",
   "execution_count": 4,
   "metadata": {
    "colab": {},
    "colab_type": "code",
    "id": "ejF2s926jHa-"
   },
   "outputs": [],
   "source": [
    "!unzip -uq \"/content/drive/My Drive/Colab Notebooks/traincopy.zip\" -d \"/content/drive/My Drive/Colab Notebooks/\""
   ]
  },
  {
   "cell_type": "code",
   "execution_count": 114,
   "metadata": {
    "colab": {},
    "colab_type": "code",
    "id": "OMq4WR5JjQSC"
   },
   "outputs": [],
   "source": [
    "thresh = 0.9216"
   ]
  },
  {
   "cell_type": "code",
   "execution_count": 115,
   "metadata": {
    "colab": {},
    "colab_type": "code",
    "id": "1nNqIqCOje6O"
   },
   "outputs": [],
   "source": [
    "from tensorflow.keras.callbacks import Callback\n",
    "class myCallback(Callback): \n",
    "    def on_epoch_end(self, epoch, logs={}): \n",
    "        if(logs.get('val_accuracy') > thresh):   \n",
    "            self.model.stop_training = True"
   ]
  },
  {
   "cell_type": "code",
   "execution_count": 116,
   "metadata": {
    "colab": {},
    "colab_type": "code",
    "id": "M9GVJ3CBjqw9"
   },
   "outputs": [],
   "source": [
    "callbacks = myCallback()"
   ]
  },
  {
   "cell_type": "code",
   "execution_count": 117,
   "metadata": {
    "colab": {},
    "colab_type": "code",
    "id": "XDs4b5Qijs5k"
   },
   "outputs": [],
   "source": [
    "train_path = '/content/drive/My Drive/Colab Notebooks/train copy/train'\n",
    "test_path = '/content/drive/My Drive/Colab Notebooks/train copy/test'"
   ]
  },
  {
   "cell_type": "code",
   "execution_count": 118,
   "metadata": {
    "colab": {
     "base_uri": "https://localhost:8080/",
     "height": 51
    },
    "colab_type": "code",
    "id": "TyySpVmsju5J",
    "outputId": "f7fce7d8-10f7-4089-865e-5a951008b0d8"
   },
   "outputs": [
    {
     "name": "stdout",
     "output_type": "stream",
     "text": [
      "Found 22500 images belonging to 2 classes.\n",
      "Found 2500 images belonging to 2 classes.\n"
     ]
    }
   ],
   "source": [
    "from tensorflow.keras.preprocessing.image import ImageDataGenerator\n",
    "train_datagen = ImageDataGenerator(rescale=1./255)\n",
    "test_datagen = ImageDataGenerator(rescale=1./255)\n",
    "train = train_datagen.flow_from_directory(train_path,target_size=(150, 150),color_mode='rgb',classes=['cat','dog'],class_mode='binary',batch_size=64)\n",
    "test = test_datagen.flow_from_directory(test_path,target_size=(150, 150),color_mode='rgb',classes=['cat','dog'],class_mode='binary',batch_size=64)"
   ]
  },
  {
   "cell_type": "code",
   "execution_count": 119,
   "metadata": {
    "colab": {},
    "colab_type": "code",
    "id": "I4qaZ4evjyG7"
   },
   "outputs": [],
   "source": [
    "from tensorflow.keras.models import Sequential\n",
    "from tensorflow.keras.layers import Dense, Dropout, Flatten, Conv2D, MaxPool2D\n",
    "\n",
    "model = Sequential()\n",
    "\n",
    "model.add(Conv2D(32,kernel_size=(3,3),activation='relu',input_shape=(150,150,3),padding='same'))\n",
    "#model.add(MaxPool2D(pool_size=(2,2)))\n",
    "#model.add(Dropout(0.1))\n",
    "\n",
    "model.add(Conv2D(64, kernel_size = (3,3),activation ='relu',padding='same'))\n",
    "model.add(MaxPool2D(pool_size=(2,2)))\n",
    "model.add(Dropout(0.1))\n",
    "\n",
    "model.add(Conv2D(64, kernel_size = (3,3),activation ='relu',padding='same'))\n",
    "#model.add(MaxPool2D(pool_size=(2,2)))\n",
    "#model.add(Dropout(0.1))\n",
    "\n",
    "model.add(Conv2D(64, kernel_size = (3,3),activation ='relu',padding='same'))\n",
    "model.add(MaxPool2D(pool_size=(2,2)))\n",
    "model.add(Dropout(0.2))\n",
    "\n",
    "model.add(Conv2D(128, kernel_size = (3,3),activation ='relu'))\n",
    "#model.add(MaxPool2D(pool_size=(2,2)))\n",
    "#model.add(Dropout(0.1))\n",
    "\n",
    "model.add(Conv2D(128, kernel_size = (3,3),activation ='relu'))\n",
    "model.add(MaxPool2D(pool_size=(2,2)))\n",
    "model.add(Dropout(0.3))\n",
    "\n",
    "model.add(Flatten())\n",
    "model.add(Dense(512, activation = \"relu\"))\n",
    "model.add(Dropout(0.2))\n",
    "model.add(Dense(1, activation = \"sigmoid\"))\n",
    "\n",
    "\n"
   ]
  },
  {
   "cell_type": "code",
   "execution_count": 120,
   "metadata": {
    "colab": {},
    "colab_type": "code",
    "id": "GuXjWvbcj0qi"
   },
   "outputs": [],
   "source": [
    "model.compile(optimizer='RMSprop', loss='binary_crossentropy', metrics=['accuracy'])"
   ]
  },
  {
   "cell_type": "code",
   "execution_count": 121,
   "metadata": {
    "colab": {
     "base_uri": "https://localhost:8080/",
     "height": 697
    },
    "colab_type": "code",
    "id": "zJuubepEj3Wa",
    "outputId": "8a46702e-5f96-4be8-ed12-40f24dd950f5"
   },
   "outputs": [
    {
     "name": "stdout",
     "output_type": "stream",
     "text": [
      "Model: \"sequential_16\"\n",
      "_________________________________________________________________\n",
      "Layer (type)                 Output Shape              Param #   \n",
      "=================================================================\n",
      "conv2d_92 (Conv2D)           (None, 150, 150, 32)      896       \n",
      "_________________________________________________________________\n",
      "conv2d_93 (Conv2D)           (None, 150, 150, 64)      18496     \n",
      "_________________________________________________________________\n",
      "max_pooling2d_53 (MaxPooling (None, 75, 75, 64)        0         \n",
      "_________________________________________________________________\n",
      "dropout_31 (Dropout)         (None, 75, 75, 64)        0         \n",
      "_________________________________________________________________\n",
      "conv2d_94 (Conv2D)           (None, 75, 75, 64)        36928     \n",
      "_________________________________________________________________\n",
      "conv2d_95 (Conv2D)           (None, 75, 75, 64)        36928     \n",
      "_________________________________________________________________\n",
      "max_pooling2d_54 (MaxPooling (None, 37, 37, 64)        0         \n",
      "_________________________________________________________________\n",
      "dropout_32 (Dropout)         (None, 37, 37, 64)        0         \n",
      "_________________________________________________________________\n",
      "conv2d_96 (Conv2D)           (None, 35, 35, 128)       73856     \n",
      "_________________________________________________________________\n",
      "conv2d_97 (Conv2D)           (None, 33, 33, 128)       147584    \n",
      "_________________________________________________________________\n",
      "max_pooling2d_55 (MaxPooling (None, 16, 16, 128)       0         \n",
      "_________________________________________________________________\n",
      "dropout_33 (Dropout)         (None, 16, 16, 128)       0         \n",
      "_________________________________________________________________\n",
      "flatten_15 (Flatten)         (None, 32768)             0         \n",
      "_________________________________________________________________\n",
      "dense_30 (Dense)             (None, 512)               16777728  \n",
      "_________________________________________________________________\n",
      "dropout_34 (Dropout)         (None, 512)               0         \n",
      "_________________________________________________________________\n",
      "dense_31 (Dense)             (None, 1)                 513       \n",
      "=================================================================\n",
      "Total params: 17,092,929\n",
      "Trainable params: 17,092,929\n",
      "Non-trainable params: 0\n",
      "_________________________________________________________________\n"
     ]
    }
   ],
   "source": [
    "model.summary()"
   ]
  },
  {
   "cell_type": "code",
   "execution_count": 122,
   "metadata": {
    "colab": {
     "base_uri": "https://localhost:8080/",
     "height": 615
    },
    "colab_type": "code",
    "id": "WCuthndbj43T",
    "outputId": "1730d4a2-f16f-4cd9-999d-4fbe39bd7f9b"
   },
   "outputs": [
    {
     "name": "stdout",
     "output_type": "stream",
     "text": [
      "Epoch 1/20\n",
      "351/351 [==============================] - 160s 457ms/step - loss: 0.7078 - accuracy: 0.5589 - val_loss: 0.6140 - val_accuracy: 0.6599\n",
      "Epoch 2/20\n",
      "351/351 [==============================] - 161s 459ms/step - loss: 0.6029 - accuracy: 0.6766 - val_loss: 0.5325 - val_accuracy: 0.7308\n",
      "Epoch 3/20\n",
      "351/351 [==============================] - 164s 467ms/step - loss: 0.5229 - accuracy: 0.7420 - val_loss: 0.4261 - val_accuracy: 0.8109\n",
      "Epoch 4/20\n",
      "351/351 [==============================] - 163s 463ms/step - loss: 0.4530 - accuracy: 0.7879 - val_loss: 0.4008 - val_accuracy: 0.8169\n",
      "Epoch 5/20\n",
      "351/351 [==============================] - 162s 462ms/step - loss: 0.3914 - accuracy: 0.8259 - val_loss: 0.3717 - val_accuracy: 0.8361\n",
      "Epoch 6/20\n",
      "351/351 [==============================] - 162s 462ms/step - loss: 0.3445 - accuracy: 0.8509 - val_loss: 0.2962 - val_accuracy: 0.8730\n",
      "Epoch 7/20\n",
      "351/351 [==============================] - 163s 465ms/step - loss: 0.3079 - accuracy: 0.8718 - val_loss: 0.2766 - val_accuracy: 0.8782\n",
      "Epoch 8/20\n",
      "351/351 [==============================] - 163s 463ms/step - loss: 0.2805 - accuracy: 0.8851 - val_loss: 0.4233 - val_accuracy: 0.7925\n",
      "Epoch 9/20\n",
      "351/351 [==============================] - 162s 462ms/step - loss: 0.2566 - accuracy: 0.8946 - val_loss: 0.2536 - val_accuracy: 0.9030\n",
      "Epoch 10/20\n",
      "351/351 [==============================] - 162s 460ms/step - loss: 0.2350 - accuracy: 0.9067 - val_loss: 0.2539 - val_accuracy: 0.9042\n",
      "Epoch 11/20\n",
      "351/351 [==============================] - 163s 464ms/step - loss: 0.2284 - accuracy: 0.9105 - val_loss: 0.2529 - val_accuracy: 0.8950\n",
      "Epoch 12/20\n",
      "351/351 [==============================] - 169s 482ms/step - loss: 0.2091 - accuracy: 0.9180 - val_loss: 0.2191 - val_accuracy: 0.9115\n",
      "Epoch 13/20\n",
      "351/351 [==============================] - 164s 468ms/step - loss: 0.2046 - accuracy: 0.9213 - val_loss: 0.2272 - val_accuracy: 0.9050\n",
      "Epoch 14/20\n",
      "351/351 [==============================] - 164s 466ms/step - loss: 0.2007 - accuracy: 0.9234 - val_loss: 0.2449 - val_accuracy: 0.8946\n",
      "Epoch 15/20\n",
      "351/351 [==============================] - 163s 464ms/step - loss: 0.2002 - accuracy: 0.9220 - val_loss: 0.3343 - val_accuracy: 0.8970\n",
      "Epoch 16/20\n",
      "351/351 [==============================] - 166s 472ms/step - loss: 0.1924 - accuracy: 0.9259 - val_loss: 0.2074 - val_accuracy: 0.9147\n",
      "Epoch 17/20\n",
      "351/351 [==============================] - 164s 467ms/step - loss: 0.2058 - accuracy: 0.9234 - val_loss: 0.1936 - val_accuracy: 0.9259\n"
     ]
    }
   ],
   "source": [
    "train_steps=train.n//train.batch_size\n",
    "validation_steps=test.n//test.batch_size\n",
    "history = model.fit(train,steps_per_epoch=train_steps,validation_data=test,validation_steps=validation_steps,epochs=20, callbacks=[callbacks])"
   ]
  },
  {
   "cell_type": "code",
   "execution_count": 123,
   "metadata": {
    "colab": {
     "base_uri": "https://localhost:8080/",
     "height": 295
    },
    "colab_type": "code",
    "id": "yYWC7OZXj79M",
    "outputId": "fa6f3547-c291-45be-a542-4e38d2a821fd"
   },
   "outputs": [
    {
     "data": {
      "image/png": "[encoded data removed]",
      "text/plain": [
       "<Figure size 432x288 with 1 Axes>"
      ]
     },
     "metadata": {
      "needs_background": "light",
      "tags": []
     },
     "output_type": "display_data"
    }
   ],
   "source": [
    "import matplotlib.pyplot as plt\n",
    "\n",
    "plt.plot(history.history['accuracy'])\n",
    "plt.plot(history.history['val_accuracy'])\n",
    "plt.title('model accuracy')\n",
    "plt.ylabel('accuracy')\n",
    "plt.xlabel('epoch')\n",
    "plt.legend(['train', 'test'], loc='upper left')\n",
    "plt.show()"
   ]
  }
 ],
 "metadata": {
  "accelerator": "GPU",
  "colab": {
   "collapsed_sections": [],
   "name": "CatsDogsFinalColab.ipynb",
   "provenance": []
  },
  "kernelspec": {
   "display_name": "Python 3",
   "language": "python",
   "name": "python3"
  },
  "language_info": {
   "codemirror_mode": {
    "name": "ipython",
    "version": 3
   },
   "file_extension": ".py",
   "mimetype": "text/x-python",
   "name": "python",
   "nbconvert_exporter": "python",
   "pygments_lexer": "ipython3",
   "version": "3.7.6"
  }
 },
 "nbformat": 4,
 "nbformat_minor": 1
}
